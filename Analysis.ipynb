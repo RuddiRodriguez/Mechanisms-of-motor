{
 "cells": [
  {
   "cell_type": "code",
   "execution_count": 147,
   "metadata": {},
   "outputs": [],
   "source": [
    "import pandas as pd \n",
    "import numpy as np"
   ]
  },
  {
   "cell_type": "code",
   "execution_count": 142,
   "metadata": {},
   "outputs": [
    {
     "data": {
      "text/html": [
       "<div>\n",
       "<style scoped>\n",
       "    .dataframe tbody tr th:only-of-type {\n",
       "        vertical-align: middle;\n",
       "    }\n",
       "\n",
       "    .dataframe tbody tr th {\n",
       "        vertical-align: top;\n",
       "    }\n",
       "\n",
       "    .dataframe thead th {\n",
       "        text-align: right;\n",
       "    }\n",
       "</style>\n",
       "<table border=\"1\" class=\"dataframe\">\n",
       "  <thead>\n",
       "    <tr style=\"text-align: right;\">\n",
       "      <th></th>\n",
       "      <th>Speed</th>\n",
       "      <th>TAC</th>\n",
       "      <th>dTAC</th>\n",
       "      <th>Sliding</th>\n",
       "      <th>Kinesin</th>\n",
       "      <th>Kinesin_con</th>\n",
       "      <th>SxIP_con</th>\n",
       "      <th>movie_number</th>\n",
       "    </tr>\n",
       "  </thead>\n",
       "  <tbody>\n",
       "    <tr>\n",
       "      <th>184</th>\n",
       "      <td>35.795</td>\n",
       "      <td>0.0</td>\n",
       "      <td>0.0</td>\n",
       "      <td>0.0</td>\n",
       "      <td>1.0</td>\n",
       "      <td>6.0</td>\n",
       "      <td>15.0</td>\n",
       "      <td>NaN</td>\n",
       "    </tr>\n",
       "    <tr>\n",
       "      <th>185</th>\n",
       "      <td>44.062</td>\n",
       "      <td>0.0</td>\n",
       "      <td>0.0</td>\n",
       "      <td>0.0</td>\n",
       "      <td>1.0</td>\n",
       "      <td>6.0</td>\n",
       "      <td>15.0</td>\n",
       "      <td>NaN</td>\n",
       "    </tr>\n",
       "    <tr>\n",
       "      <th>186</th>\n",
       "      <td>25.368</td>\n",
       "      <td>0.0</td>\n",
       "      <td>0.0</td>\n",
       "      <td>0.0</td>\n",
       "      <td>1.0</td>\n",
       "      <td>6.0</td>\n",
       "      <td>15.0</td>\n",
       "      <td>NaN</td>\n",
       "    </tr>\n",
       "    <tr>\n",
       "      <th>187</th>\n",
       "      <td>61.071</td>\n",
       "      <td>0.0</td>\n",
       "      <td>0.0</td>\n",
       "      <td>0.0</td>\n",
       "      <td>1.0</td>\n",
       "      <td>6.0</td>\n",
       "      <td>15.0</td>\n",
       "      <td>NaN</td>\n",
       "    </tr>\n",
       "    <tr>\n",
       "      <th>188</th>\n",
       "      <td>60.000</td>\n",
       "      <td>0.0</td>\n",
       "      <td>0.0</td>\n",
       "      <td>0.0</td>\n",
       "      <td>1.0</td>\n",
       "      <td>6.0</td>\n",
       "      <td>15.0</td>\n",
       "      <td>NaN</td>\n",
       "    </tr>\n",
       "  </tbody>\n",
       "</table>\n",
       "</div>"
      ],
      "text/plain": [
       "      Speed  TAC  dTAC  Sliding  Kinesin  Kinesin_con  SxIP_con  movie_number\n",
       "184  35.795  0.0   0.0      0.0      1.0          6.0      15.0           NaN\n",
       "185  44.062  0.0   0.0      0.0      1.0          6.0      15.0           NaN\n",
       "186  25.368  0.0   0.0      0.0      1.0          6.0      15.0           NaN\n",
       "187  61.071  0.0   0.0      0.0      1.0          6.0      15.0           NaN\n",
       "188  60.000  0.0   0.0      0.0      1.0          6.0      15.0           NaN"
      ]
     },
     "execution_count": 142,
     "metadata": {},
     "output_type": "execute_result"
    }
   ],
   "source": [
    "data = pd.read_csv('results.csv')\n",
    "data.dropna(how='all',axis=0)\n",
    "data.drop(data[data['Speed'] > 70].index, inplace = True) \n",
    "data.tail ()\n",
    "#data.stack().reset_index()"
   ]
  },
  {
   "cell_type": "code",
   "execution_count": 143,
   "metadata": {},
   "outputs": [],
   "source": [
    "data_gro=data[['Kinesin','Kinesin_con','Speed']].groupby([\"Kinesin_con\"])\n"
   ]
  },
  {
   "cell_type": "code",
   "execution_count": 164,
   "metadata": {},
   "outputs": [
    {
     "data": {
      "image/png": "[encoded data removed]",
      "text/plain": [
       "<Figure size 216x108 with 1 Axes>"
      ]
     },
     "metadata": {
      "needs_background": "light"
     },
     "output_type": "display_data"
    }
   ],
   "source": [
    "data_kinesin = data[data['Kinesin']==1]\n",
    "import matplotlib\n",
    "import matplotlib.pyplot as plt\n",
    "import seaborn as sns\n",
    "%matplotlib inline\n",
    "fig = plt.figure(figsize=(3, 1.5))\n",
    "#sns.set(style=\"darkgrid\")\n",
    "sns.set_style(\"white\")\n",
    "sns.despine()\n",
    "\n",
    "\n",
    "ax= sns.swarmplot(x=\"Kinesin_con\",y=\"Speed\",data=data_kinesin,zorder=1)\n",
    "ax = sns.pointplot(x=\"Kinesin_con\",y=\"Speed\",data=data_kinesin,estimator= np.mean,\n",
    "                  capsize=.1,\n",
    "                  join=False,\n",
    "                  color='black',\n",
    "                  size=4,zorder=2,ci='sd',markers='_',scale = 1.5)\n",
    "ax.tick_params(left=True,direction='in')\n",
    "sns.despine()\n",
    "ax.set(ylim=(0, None))\n",
    "\n",
    "plt.savefig('speed.svg', dpi=300)"
   ]
  },
  {
   "cell_type": "code",
   "execution_count": 88,
   "metadata": {},
   "outputs": [],
   "source": [
    "data_gro=data_kinesin[['Kinesin_con','Speed']].groupby([\"Kinesin_con\"])\n",
    "test=(data_gro.get_group(15.0))\n",
    "datatt = [['6', data_gro.get_group(6.0)], ['15', data_gro.get_group(15.0)], ['30', data_gro.get_group(30.0)]] \n",
    "#datt=data_gro.get_group(15.0)\n",
    "datt=pd.DataFrame(datatt)\n",
    "datt\n",
    "test.to_clipboard()"
   ]
  },
  {
   "cell_type": "code",
   "execution_count": 5,
   "metadata": {},
   "outputs": [
    {
     "data": {
      "text/plain": [
       "Speed\n",
       "0.841     31.0\n",
       "1.265     31.0\n",
       "1.272     16.0\n",
       "1.291      7.0\n",
       "1.331     31.0\n",
       "1.412     31.0\n",
       "1.461     16.0\n",
       "1.473      7.0\n",
       "1.489      7.0\n",
       "1.574     16.0\n",
       "1.611     16.0\n",
       "1.680      7.0\n",
       "1.705     16.0\n",
       "1.710      7.0\n",
       "1.713     16.0\n",
       "1.723      7.0\n",
       "1.740     31.0\n",
       "1.746      7.0\n",
       "1.766     16.0\n",
       "1.836     16.0\n",
       "1.837     31.0\n",
       "1.865     16.0\n",
       "1.875      7.0\n",
       "1.918     31.0\n",
       "1.934     16.0\n",
       "1.963      7.0\n",
       "2.042     16.0\n",
       "2.054     16.0\n",
       "2.074     16.0\n",
       "2.094     16.0\n",
       "          ... \n",
       "18.375    31.0\n",
       "18.525    31.0\n",
       "18.646    31.0\n",
       "18.750     7.0\n",
       "19.125    31.0\n",
       "19.250    31.0\n",
       "19.514    31.0\n",
       "19.688    31.0\n",
       "19.737    31.0\n",
       "21.500    16.0\n",
       "21.875    16.0\n",
       "22.383    31.0\n",
       "22.941    31.0\n",
       "23.000    31.0\n",
       "23.182    16.0\n",
       "23.906     7.0\n",
       "24.609    16.0\n",
       "25.000    31.5\n",
       "25.313     7.0\n",
       "26.116    16.0\n",
       "26.250    16.0\n",
       "26.875    16.0\n",
       "27.404    16.0\n",
       "28.977    16.0\n",
       "29.250    16.0\n",
       "29.669    31.0\n",
       "31.364    16.0\n",
       "32.875    31.0\n",
       "33.542    16.0\n",
       "37.500     7.0\n",
       "Length: 118, dtype: float64"
      ]
     },
     "execution_count": 5,
     "metadata": {},
     "output_type": "execute_result"
    }
   ],
   "source": [
    "\n",
    "#data_gro['Fraction_tubes'] = data_gro.apply(lambda row: row.TAC / \n",
    "                                  #(row.Kinesin ), axis = 1) \n",
    "data_gro.sum(axis=1)"
   ]
  },
  {
   "cell_type": "code",
   "execution_count": 25,
   "metadata": {},
   "outputs": [
    {
     "data": {
      "text/html": [
       "<div>\n",
       "<style scoped>\n",
       "    .dataframe tbody tr th:only-of-type {\n",
       "        vertical-align: middle;\n",
       "    }\n",
       "\n",
       "    .dataframe tbody tr th {\n",
       "        vertical-align: top;\n",
       "    }\n",
       "\n",
       "    .dataframe thead th {\n",
       "        text-align: right;\n",
       "    }\n",
       "</style>\n",
       "<table border=\"1\" class=\"dataframe\">\n",
       "  <thead>\n",
       "    <tr style=\"text-align: right;\">\n",
       "      <th></th>\n",
       "      <th>TAC</th>\n",
       "      <th>dTAC</th>\n",
       "      <th>Sliding</th>\n",
       "      <th>Kinesin</th>\n",
       "      <th>FT_TAC</th>\n",
       "      <th>FT_dTAC</th>\n",
       "      <th>FT_Sliding</th>\n",
       "      <th>FT_Kinesin</th>\n",
       "    </tr>\n",
       "    <tr>\n",
       "      <th>Kinesin_con</th>\n",
       "      <th></th>\n",
       "      <th></th>\n",
       "      <th></th>\n",
       "      <th></th>\n",
       "      <th></th>\n",
       "      <th></th>\n",
       "      <th></th>\n",
       "      <th></th>\n",
       "    </tr>\n",
       "  </thead>\n",
       "  <tbody>\n",
       "    <tr>\n",
       "      <th>6.0</th>\n",
       "      <td>9.0</td>\n",
       "      <td>0.0</td>\n",
       "      <td>0.0</td>\n",
       "      <td>5.0</td>\n",
       "      <td>0.642857</td>\n",
       "      <td>0.000000</td>\n",
       "      <td>0.000000</td>\n",
       "      <td>0.341463</td>\n",
       "    </tr>\n",
       "    <tr>\n",
       "      <th>15.0</th>\n",
       "      <td>33.0</td>\n",
       "      <td>0.0</td>\n",
       "      <td>5.0</td>\n",
       "      <td>26.0</td>\n",
       "      <td>0.515625</td>\n",
       "      <td>0.000000</td>\n",
       "      <td>0.077501</td>\n",
       "      <td>0.402520</td>\n",
       "    </tr>\n",
       "    <tr>\n",
       "      <th>30.0</th>\n",
       "      <td>17.0</td>\n",
       "      <td>2.0</td>\n",
       "      <td>8.0</td>\n",
       "      <td>42.0</td>\n",
       "      <td>0.246377</td>\n",
       "      <td>0.028882</td>\n",
       "      <td>0.115481</td>\n",
       "      <td>0.605268</td>\n",
       "    </tr>\n",
       "  </tbody>\n",
       "</table>\n",
       "</div>"
      ],
      "text/plain": [
       "              TAC  dTAC  Sliding  Kinesin    FT_TAC   FT_dTAC  FT_Sliding  \\\n",
       "Kinesin_con                                                                 \n",
       "6.0           9.0   0.0      0.0      5.0  0.642857  0.000000    0.000000   \n",
       "15.0         33.0   0.0      5.0     26.0  0.515625  0.000000    0.077501   \n",
       "30.0         17.0   2.0      8.0     42.0  0.246377  0.028882    0.115481   \n",
       "\n",
       "             FT_Kinesin  \n",
       "Kinesin_con              \n",
       "6.0            0.341463  \n",
       "15.0           0.402520  \n",
       "30.0           0.605268  "
      ]
     },
     "execution_count": 25,
     "metadata": {},
     "output_type": "execute_result"
    }
   ],
   "source": [
    "def fraction_tubes(data,column_name):\n",
    "    for items in column_name:\n",
    "        data_gro['FT_'+items] = data [items]/data.sum(axis=1)\n",
    "        #print (items)\n",
    "        \n",
    "    \n",
    "    \n",
    "fraction_tubes(data_gro,['TAC', 'dTAC', 'Sliding', 'Kinesin'])\n",
    "#data_gro['Fraction_tubes_TAC'] = data_gro ['TAC']/data_gro.sum(axis=1)\n",
    "data_gro"
   ]
  },
  {
   "cell_type": "code",
   "execution_count": 26,
   "metadata": {},
   "outputs": [
    {
     "data": {
      "text/plain": [
       "<Figure size 648x648 with 0 Axes>"
      ]
     },
     "metadata": {},
     "output_type": "display_data"
    },
    {
     "data": {
      "image/png": "[encoded data removed]",
      "text/plain": [
       "<Figure size 504x504 with 1 Axes>"
      ]
     },
     "metadata": {},
     "output_type": "display_data"
    }
   ],
   "source": [
    "import matplotlib\n",
    "import matplotlib.pyplot as plt\n",
    "import seaborn as sns\n",
    "fig = plt.figure(figsize=(9, 9))\n",
    "sns.set(style=\"darkgrid\")\n",
    "#sns.barplot(data_gro[['FT_TAC','FT_dTAC','FT_Sliding','FT_Kinesin']],alpha=0.9)\n",
    "#plt.bar(data_gro[['FT_TAC','FT_dTAC','FT_Sliding','FT_Kinesin']])\n",
    "data_gro[['FT_TAC','FT_dTAC','FT_Sliding','FT_Kinesin']].plot(kind='bar',figsize=(7,7),ylim=(0,1),rot=0,use_index=False,xticks=(0.5,1,2),stacked=False)\n",
    "plt.savefig('Ratio.svg', dpi=300)\n"
   ]
  },
  {
   "cell_type": "code",
   "execution_count": 27,
   "metadata": {},
   "outputs": [
    {
     "data": {
      "text/plain": [
       "<matplotlib.axes._subplots.AxesSubplot at 0x1a17e21e80>"
      ]
     },
     "execution_count": 27,
     "metadata": {},
     "output_type": "execute_result"
    },
    {
     "data": {
      "text/plain": [
       "<Figure size 648x648 with 0 Axes>"
      ]
     },
     "metadata": {},
     "output_type": "display_data"
    },
    {
     "data": {
      "image/png": "[encoded data removed]",
      "text/plain": [
       "<Figure size 504x504 with 1 Axes>"
      ]
     },
     "metadata": {},
     "output_type": "display_data"
    }
   ],
   "source": [
    "fig = plt.figure(figsize=(9, 9))\n",
    "sns.set(style=\"darkgrid\")\n",
    "#sns.barplot(data_gro[['FT_TAC','FT_dTAC','FT_Sliding','FT_Kinesin']],alpha=0.9)\n",
    "#plt.bar(data_gro[['FT_TAC','FT_dTAC','FT_Sliding','FT_Kinesin']])\n",
    "data_gro[['TAC', 'dTAC', 'Sliding', 'Kinesin']].plot(kind='bar',figsize=(7,7),ylim=(0,50),rot=0,use_index=False,xticks=(0.5,1,2),stacked=False,table=False)\n",
    "#plt.savefig('absolute.svg', dpi=300)"
   ]
  },
  {
   "cell_type": "code",
   "execution_count": null,
   "metadata": {},
   "outputs": [],
   "source": []
  },
  {
   "cell_type": "code",
   "execution_count": null,
   "metadata": {},
   "outputs": [],
   "source": []
  },
  {
   "cell_type": "code",
   "execution_count": null,
   "metadata": {},
   "outputs": [],
   "source": []
  }
 ],
 "metadata": {
  "kernelspec": {
   "display_name": "Python 3",
   "language": "python",
   "name": "python3"
  },
  "language_info": {
   "codemirror_mode": {
    "name": "ipython",
    "version": 3
   },
   "file_extension": ".py",
   "mimetype": "text/x-python",
   "name": "python",
   "nbconvert_exporter": "python",
   "pygments_lexer": "ipython3",
   "version": "3.7.3"
  }
 },
 "nbformat": 4,
 "nbformat_minor": 4
}
